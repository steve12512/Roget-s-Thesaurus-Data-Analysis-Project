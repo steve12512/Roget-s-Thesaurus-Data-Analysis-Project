{
 "cells": [
  {
   "cell_type": "code",
   "execution_count": 6,
   "id": "ae843643",
   "metadata": {},
   "outputs": [
    {
     "name": "stdout",
     "output_type": "stream",
     "text": [
      "['Inexistence.â€”N. inexistence[obs3]; nonexistence, nonsubsistence;', 'nonentity, nil; negativeness &c. adj.; nullity; nihility[obs3], nihilism;', 'tabula rasa[Lat], blank; abeyance; absence &c. 187; no such thing &c. 4;', 'nonbeing, nothingness, oblivion.', 'annihilation; extinction &c. (destruction) 162; extinguishment,', 'extirpation, Nirvana, obliteration.', 'V. not exist &c. 1; have no existence &c. 1; be null and void; cease', 'to exist &c. 1; pass away, perish; be extinct, become extinct &c. adj.; die', 'out; disappear &c. 449; melt away, dissolve, leave not a rack behind; go,', 'be no more; die &c. 360.', 'annihilate, render null, nullify; abrogate &c. 756; destroy &c. 162;', 'take away; remove &c. (displace) 185; obliterate, extirpate.', 'Adj. inexistent[obs3], nonexistent &c. 1; negative, blank; missing,', 'omitted; absent &c. 187; insubstantial, shadowy, spectral, visionary.', 'unreal, potential, virtual; baseless, in nubibus[Lat]; unsubstantial', '&c. 4; vain.', 'unborn, uncreated[obs3], unbegotten, unconceived, unproduced, unmade.', 'perished, annihilated, &c. v.; extinct, exhausted, gone, lost,', 'vanished, departed, gone with the wind; defunct &c. (dead) 360.', 'fabulous, ideal &c. (imaginary) 515, supposititious &c. 514.', 'Adv. negatively, virtually &c. adj.', 'Phr. non ens[Lat].', '']\n"
     ]
    }
   ],
   "source": [
    "#To begin, let us read our files and store them as dictionaries\n",
    "#To do that, we will be running the file used exclusively for this\n",
    "from read_save import read_hash\n",
    "from read_save import read_class_dictionary\n",
    "\n",
    "hash_dictionary = read_hash()\n",
    "class_dictionary = read_class_dictionary()\n",
    "print(hash_dictionary['#2'])"
   ]
  },
  {
   "cell_type": "code",
   "execution_count": 8,
   "id": "517fc216",
   "metadata": {},
   "outputs": [
    {
     "name": "stdout",
     "output_type": "stream",
     "text": [
      "json file saved correctly 2\n",
      "json file saved correctly\n"
     ]
    }
   ],
   "source": [
    "#let us also store them as json files\n",
    "save_hash_dictionary(hash_dictionary)\n",
    "save_class_dictionary(class_dictionary)"
   ]
  },
  {
   "cell_type": "code",
   "execution_count": null,
   "id": "4579a935",
   "metadata": {},
   "outputs": [],
   "source": []
  }
 ],
 "metadata": {
  "kernelspec": {
   "display_name": "Python 3 (ipykernel)",
   "language": "python",
   "name": "python3"
  },
  "language_info": {
   "codemirror_mode": {
    "name": "ipython",
    "version": 3
   },
   "file_extension": ".py",
   "mimetype": "text/x-python",
   "name": "python",
   "nbconvert_exporter": "python",
   "pygments_lexer": "ipython3",
   "version": "3.11.5"
  }
 },
 "nbformat": 4,
 "nbformat_minor": 5
}
