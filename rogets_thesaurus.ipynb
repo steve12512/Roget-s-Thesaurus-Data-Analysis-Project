{
 "cells": [
  {
   "cell_type": "code",
   "execution_count": 5,
   "id": "ae843643",
   "metadata": {},
   "outputs": [
    {
     "name": "stdout",
     "output_type": "stream",
     "text": [
      "['Inexistence.β€”N. inexistence[obs3]; nonexistence, nonsubsistence;', 'nonentity, nil; negativeness &c. adj.; nullity; nihility[obs3], nihilism;', 'tabula rasa[Lat], blank; abeyance; absence &c. 187; no such thing &c. 4;', 'nonbeing, nothingness, oblivion.', 'annihilation; extinction &c. (destruction) 162; extinguishment,', 'extirpation, Nirvana, obliteration.', 'V. not exist &c. 1; have no existence &c. 1; be null and void; cease', 'to exist &c. 1; pass away, perish; be extinct, become extinct &c. adj.; die', 'out; disappear &c. 449; melt away, dissolve, leave not a rack behind; go,', 'be no more; die &c. 360.', 'annihilate, render null, nullify; abrogate &c. 756; destroy &c. 162;', 'take away; remove &c. (displace) 185; obliterate, extirpate.', 'Adj. inexistent[obs3], nonexistent &c. 1; negative, blank; missing,', 'omitted; absent &c. 187; insubstantial, shadowy, spectral, visionary.', 'unreal, potential, virtual; baseless, in nubibus[Lat]; unsubstantial', '&c. 4; vain.', 'unborn, uncreated[obs3], unbegotten, unconceived, unproduced, unmade.', 'perished, annihilated, &c. v.; extinct, exhausted, gone, lost,', 'vanished, departed, gone with the wind; defunct &c. (dead) 360.', 'fabulous, ideal &c. (imaginary) 515, supposititious &c. 514.', 'Adv. negatively, virtually &c. adj.', 'Phr. non ens[Lat].', '']\n"
     ]
    }
   ],
   "source": [
    "#To begin, let us read our files and store them as dictionaries\n",
    "#To do that, we will be running the file used exclusively for this\n",
    "from read_save import read_hash\n",
    "from read_save import read_class_dictionary\n",
    "\n",
    "hash_dictionary = read_hash()\n",
    "class_dictionary = read_class_dictionary()\n",
    "print(hash_dictionary['#2'])"
   ]
  },
  {
   "cell_type": "code",
   "execution_count": 10,
   "id": "0ff403ea",
   "metadata": {},
   "outputs": [
    {
     "name": "stdout",
     "output_type": "stream",
     "text": [
      "json file saved correctly 2\n",
      "json file saved correctly\n"
     ]
    }
   ],
   "source": [
    "from read_save import save_hash_dictionary\n",
    "from read_save import save_class_dictionary\n",
    "#let us also store them as json files\n",
    "\n",
    "save_hash_dictionary(hash_dictionary)\n",
    "save_class_dictionary(class_dictionary)"
   ]
  },
  {
   "cell_type": "code",
   "execution_count": 14,
   "id": "aeea203c",
   "metadata": {},
   "outputs": [
    {
     "name": "stdout",
     "output_type": "stream",
     "text": [
      "[('facebook', 0.948005199432373), ('tweet', 0.9403423070907593), ('fb', 0.9342359900474548), ('instagram', 0.9104824066162109), ('chat', 0.8964963555335999), ('hashtag', 0.8885936737060547), ('tweets', 0.8878158330917358), ('tl', 0.8778461217880249), ('link', 0.877821147441864), ('internet', 0.8753897547721863)]\n"
     ]
    }
   ],
   "source": [
    "#now let us proceed with word embeddings\n",
    "#first we import the libraries we need\n",
    "from gensim.models import KeyedVectors\n",
    "import gensim.downloader as api\n",
    "\n",
    "# Download the \"glove-twitter-25\" embeddings\n",
    "glove_vectors = api.load('glove-twitter-25')\n",
    "\n",
    "# Use the downloaded vectors as usual:\n",
    "print(glove_vectors.most_similar('twitter'))"
   ]
  },
  {
   "cell_type": "code",
   "execution_count": null,
   "id": "ac930932",
   "metadata": {},
   "outputs": [],
   "source": [
    "https://radimrehurek.com/gensim/models/word2vec.html\n",
    "\n",
    "#wv = api.load('word2vec-google-news-300')\n",
    "#vec_king = wv['king']"
   ]
  }
 ],
 "metadata": {
  "kernelspec": {
   "display_name": "Python 3 (ipykernel)",
   "language": "python",
   "name": "python3"
  },
  "language_info": {
   "codemirror_mode": {
    "name": "ipython",
    "version": 3
   },
   "file_extension": ".py",
   "mimetype": "text/x-python",
   "name": "python",
   "nbconvert_exporter": "python",
   "pygments_lexer": "ipython3",
   "version": "3.11.5"
  }
 },
 "nbformat": 4,
 "nbformat_minor": 5
}
