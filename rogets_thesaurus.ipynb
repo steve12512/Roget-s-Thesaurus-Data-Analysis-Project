{
 "cells": [
  {
   "cell_type": "code",
   "execution_count": 26,
   "id": "ae843643",
   "metadata": {},
   "outputs": [],
   "source": [
    "#To begin, let us read our files and store them as dictionaries\n",
    "#To do that, we will be running the file used exclusively for this\n",
    "from read_save import read_hash\n",
    "from read_save import read_class_dictionary\n",
    "\n",
    "\n",
    "hash_dictionary = read_hash()\n",
    "class_dictionary = read_class_dictionary()\n"
   ]
  },
  {
   "cell_type": "code",
   "execution_count": 27,
   "id": "0ff403ea",
   "metadata": {},
   "outputs": [
    {
     "name": "stdout",
     "output_type": "stream",
     "text": [
      "json file saved correctly 2\n",
      "json file saved correctly\n"
     ]
    }
   ],
   "source": [
    "from read_save import save_hash_dictionary\n",
    "from read_save import save_class_dictionary\n",
    "#let us also store them as json files\n",
    "\n",
    "save_hash_dictionary(hash_dictionary)\n",
    "save_class_dictionary(class_dictionary)"
   ]
  },
  {
   "cell_type": "code",
   "execution_count": null,
   "id": "aeea203c",
   "metadata": {},
   "outputs": [
    {
     "name": "stdout",
     "output_type": "stream",
     "text": [
      "json file saved correctly\n",
      "json file saved correctly 2\n"
     ]
    }
   ],
   "source": [
    "%run read_save.py\n",
    "\n",
    "#initialize our word2vec object and load a trained model into it.\n",
    "glove_vectors = intialize_word2vec()\n",
    "\n",
    "\n",
    "#then get a dictionary with our embeddings based on the #number \n",
    "embeddings = read_embeddings(hash_dictionary, class_dictionary)\n"
   ]
  },
  {
   "cell_type": "code",
   "execution_count": null,
   "id": "ac930932",
   "metadata": {},
   "outputs": [],
   "source": [
    "#https://radimrehurek.com/gensim/models/word2vec.html\n",
    "\n",
    "    \n",
    " \n",
    "# Download the \"glove-twitter-25\" embeddings\n",
    "#glove_vectors = api.load('glove-twitter-25')\n",
    "\n",
    "# Use the downloaded vectors as usual:\n",
    "#print(glove_vectors.most_similar('twitter'))   \n",
    "    \n",
    "    \n",
    "    \n",
    "    \n",
    "    \n",
    "    \n",
    "    \n",
    "    \n",
    "    \n",
    "    \n",
    "    \n",
    "#wv = api.load('word2vec-google-news-300')\n",
    "#vec_king = wv['king']"
   ]
  }
 ],
 "metadata": {
  "kernelspec": {
   "display_name": "Python 3 (ipykernel)",
   "language": "python",
   "name": "python3"
  },
  "language_info": {
   "codemirror_mode": {
    "name": "ipython",
    "version": 3
   },
   "file_extension": ".py",
   "mimetype": "text/x-python",
   "name": "python",
   "nbconvert_exporter": "python",
   "pygments_lexer": "ipython3",
   "version": "3.11.5"
  }
 },
 "nbformat": 4,
 "nbformat_minor": 5
}
