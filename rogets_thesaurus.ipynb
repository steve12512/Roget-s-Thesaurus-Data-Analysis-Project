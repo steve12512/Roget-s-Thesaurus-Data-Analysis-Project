{
 "cells": [
  {
   "cell_type": "code",
   "execution_count": 1,
   "id": "ae843643",
   "metadata": {},
   "outputs": [
    {
     "name": "stderr",
     "output_type": "stream",
     "text": [
      "C:\\Users\\steve\\anaconda3\\Lib\\site-packages\\paramiko\\transport.py:219: CryptographyDeprecationWarning: Blowfish has been deprecated\n",
      "  \"class\": algorithms.Blowfish,\n"
     ]
    },
    {
     "name": "stdout",
     "output_type": "stream",
     "text": [
      "2088 8266\n",
      "#1: -0.17363267987966538\n",
      "#2: -0.17363267987966538\n",
      "#3: 0.0616585199534893\n",
      "#4: -0.2080474045500159\n",
      "#5: 0.0616585199534893\n",
      "#6: -0.03680612027645111\n",
      "#7: -0.05892909370362759\n",
      "#8: -0.17363267987966538\n",
      "#9: -0.21769467294216155\n",
      "#10: -0.2080474045500159\n"
     ]
    }
   ],
   "source": [
    "#To begin, let us read our files and store them as dictionaries\n",
    "#To do that, we will be running the file used exclusively for this\n",
    "from read_save import read_hash\n",
    "from read_save import read_class_dictionary\n",
    "\n",
    "\n",
    "hash_dictionary = read_hash()\n",
    "class_dictionary = read_class_dictionary()\n"
   ]
  },
  {
   "cell_type": "code",
   "execution_count": 3,
   "id": "0ff403ea",
   "metadata": {},
   "outputs": [],
   "source": [
    "from read_save import save_hash_dictionary\n",
    "from read_save import save_class_dictionary\n",
    "#let us also store them as json files\n",
    "\n",
    "save_hash_dictionary(hash_dictionary)\n",
    "save_class_dictionary(class_dictionary)"
   ]
  },
  {
   "cell_type": "code",
   "execution_count": 4,
   "id": "aeea203c",
   "metadata": {},
   "outputs": [
    {
     "name": "stdout",
     "output_type": "stream",
     "text": [
      "2088 8266\n",
      "#1: -0.17363267987966538\n",
      "#2: -0.17363267987966538\n",
      "#3: 0.0616585199534893\n",
      "#4: -0.2080474045500159\n",
      "#5: 0.0616585199534893\n",
      "#6: -0.03680612027645111\n",
      "#7: -0.05892909370362759\n",
      "#8: -0.17363267987966538\n",
      "#9: -0.21769467294216155\n",
      "#10: -0.2080474045500159\n",
      "2088 8266\n"
     ]
    }
   ],
   "source": [
    "%run read_save.py\n",
    "\n",
    "#initialize our word2vec object and load a trained model into it.\n",
    "glove_vectors = intialize_word2vec()\n",
    "\n",
    "\n",
    "#then get a dictionary with our embeddings based on the #number \n",
    "embeddings = read_embeddings(hash_dictionary, glove_vectors)\n",
    "\n",
    "\n"
   ]
  },
  {
   "cell_type": "code",
   "execution_count": 5,
   "id": "ac930932",
   "metadata": {},
   "outputs": [
    {
     "name": "stdout",
     "output_type": "stream",
     "text": [
      "2088 8266\n",
      "#1: -0.17363267987966538\n",
      "#2: -0.17363267987966538\n",
      "#3: 0.0616585199534893\n",
      "#4: -0.2080474045500159\n",
      "#5: 0.0616585199534893\n",
      "#6: -0.03680612027645111\n",
      "#7: -0.05892909370362759\n",
      "#8: -0.17363267987966538\n",
      "#9: -0.21769467294216155\n",
      "#10: -0.2080474045500159\n"
     ]
    }
   ],
   "source": [
    "#let us continue by getting the average number within each list of the embeddings dictionary, which will be easier for clustering\n",
    "%run read_save.py\n",
    "average_embeddings = get_average_embeddings(embeddings)"
   ]
  },
  {
   "cell_type": "code",
   "execution_count": null,
   "id": "6657bdf0",
   "metadata": {},
   "outputs": [],
   "source": []
  }
 ],
 "metadata": {
  "kernelspec": {
   "display_name": "Python 3 (ipykernel)",
   "language": "python",
   "name": "python3"
  },
  "language_info": {
   "codemirror_mode": {
    "name": "ipython",
    "version": 3
   },
   "file_extension": ".py",
   "mimetype": "text/x-python",
   "name": "python",
   "nbconvert_exporter": "python",
   "pygments_lexer": "ipython3",
   "version": "3.11.5"
  }
 },
 "nbformat": 4,
 "nbformat_minor": 5
}
