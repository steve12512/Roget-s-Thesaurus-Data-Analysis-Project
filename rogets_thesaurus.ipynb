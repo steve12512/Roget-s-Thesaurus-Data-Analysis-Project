{
 "cells": [
  {
   "cell_type": "markdown",
   "id": "1f6351e0",
   "metadata": {},
   "source": [
    "To have our code be more readable, everyhing is done in our read_save.py file. The file will read the thesaurus, store it in dictionaries and json files. \n",
    "One dictionary contains the classes/divisions/sections of the book and maps them to 2 lists; one with the words contained within each section, and one that contains the #numbers of the sections.\n",
    "The other dictionary maps the #numbers to their list of words, which is basically a list of synonyms.\n"
   ]
  },
  {
   "cell_type": "markdown",
   "id": "a7060988",
   "metadata": {},
   "source": [
    "We then continue by loading a word2vec object and having it trained by loading a popular twitter25 model.\n",
    "After that, we store the embeddings we find in an embeddings dictionary, that maps #numbers to their list of word embeddings.\n",
    "\n",
    "However, since similar words tend to have embeddings whose numbersare close to one another, for each #number, we calculate the average of the corresponding list of embeddings and store it in a new dictioary, called average_embeddings.\n",
    "\n",
    "This way, our data will to process for our clustering model."
   ]
  },
  {
   "cell_type": "markdown",
   "id": "a508a87b",
   "metadata": {},
   "source": [
    "Then we proceed with one unsupervised machine learning algorithm, in particular k-means."
   ]
  },
  {
   "cell_type": "code",
   "execution_count": null,
   "id": "90aeb403",
   "metadata": {},
   "outputs": [],
   "source": [
    "%run main.py"
   ]
  },
  {
   "cell_type": "markdown",
   "id": "60ec556d",
   "metadata": {},
   "source": [
    "After performing a kmeans clustering for our classes, our new classes look like this; \n",
    "\n",
    "    \"CLASS I. Philosophical Taxonomy\",\n",
    "    \"CLASS II. Diverse Manifestations\",\n",
    "    \"CLASS III. Life Dynamics\",\n",
    "    \"CLASS IV. Transformational Entities\",\n",
    "    \"CLASS V. Elemental Forces\",\n",
    "    \"CLASS VI. Societal Dynamics\""
   ]
  },
  {
   "cell_type": "markdown",
   "id": "691c80e4",
   "metadata": {},
   "source": [
    "Of course, the new cluster classes only have numbers for names as of now. \n",
    "\n",
    "The mapping of the sum of the words they contain to their cluster name is done at the end of our assessment. \n",
    "We then proceed, for each new cluster class, to create new clusters(sections) within that class.\n",
    "\n",
    "Our new cluster classes, along with those cluster sections, after mapping the words of each section to their meaning, will be along these lines;"
   ]
  },
  {
   "cell_type": "markdown",
   "id": "60cd2050",
   "metadata": {},
   "source": [
    "\n",
    "**\"CLASS I. Philosophical Taxonomy\" ;**\n",
    "\n",
    "Section 1: \"Existence and Essence\"\n",
    "\n",
    "Section 2: \"Relations and Dispositions\"\n",
    "\n",
    "Section 3: \"Connection and Manifestation\"\n",
    "\n",
    "Section 4: \"Differentiation and Manifested Properties\n",
    "\n",
    "Section 5: \"Comparison and Qualification\"\n",
    "\n",
    "\n",
    "\n",
    "**\"CLASS II. Diverse Manifestations\" ;**\n",
    "\n",
    "Section 1: \"Exclusion and Novelty\"\n",
    "\n",
    "Section 2: \"Extrinsical Identity and Forms\"\n",
    "\n",
    "Section 3: \"Decomposition and Diversity\"\n",
    "\n",
    "Section 4: \"Similarity and Compositions\"\n",
    "\n",
    "Section 5: \"Junctions and Manifestations\"\n",
    "\n",
    "\n",
    "\n",
    "**\"CLASS III. Life Dynamics\" ;**\n",
    "\n",
    "Section 1: \"Middle and Motives\"\n",
    "\n",
    "Section 2: \"Uniformity and Ends\"\n",
    "\n",
    "Section 3:\"State and Events\"\n",
    "\n",
    "Section 4: \"Absolute Properties and Entities\"\n",
    "\n",
    "Section 5: \"Junctions and Intentions\"\n",
    "\n",
    "\n",
    "\n",
    "**\"CLASS IV. Transformational Entities\" ;**\n",
    "\n",
    "Section 1: \"Transformation and Contractions\"\n",
    "\n",
    "Section 2: \"Imitation and Variations\"\n",
    "\n",
    "Section 3: \"Disagreements and Destruction\"\n",
    "\n",
    "Section 4: \"Inferiority and Sound\"\n",
    "\n",
    "Section 5: \"Combination and Possession\"\n",
    "\n",
    "\n",
    "\n",
    "**\"CLASS V. Elemental Forces\" ;**\n",
    "\n",
    "Section 1: \"Error and Misfortune\"\n",
    "\n",
    "Section 2: \"Absence and Odors\"\n",
    "\n",
    "Section 3: \"Smallness and Memory\"\n",
    "\n",
    "Section 4: \"Bitterness and Indications\"\n",
    "\n",
    "Section 5: \"Assignments and Demonstration\"\n",
    "\n",
    "\n",
    "\n",
    "**\"CLASS VI. Societal Dynamics\" ;**\n",
    "\n",
    "Section 1: \"Youth and Expressive Forces\"\n",
    "\n",
    "Section 2: \"Support, Direction, and Social Influences\"\n",
    "\n",
    "Section 3: \"Size, Clothing, and Relationship Dynamics\"\n",
    "\n",
    "Section 4: \"Change, Evening, and Governance Forces\"\n",
    "\n",
    "Section 5: \"Demonstration and Financial Forces\"\n"
   ]
  },
  {
   "cell_type": "markdown",
   "id": "0814878b",
   "metadata": {},
   "source": [
    "\n",
    "We see that a modern unsupervised machine learning algorithm categorizes words in a very different way, compared to Roget's age.\n"
   ]
  },
  {
   "cell_type": "markdown",
   "id": "356edf58",
   "metadata": {},
   "source": [
    "Our final dictionary with the new cluster classes and cluster sections, after having mapped them to names(based on the meaning of the sum of the words for each class/section) is stored in our modern_dictionary_with_names.json file(the one without the 'with names' hasn't yet mapped them to names, according to their meanings, but has them stored according to our kmeans clustering)."
   ]
  },
  {
   "cell_type": "markdown",
   "id": "745d71cc",
   "metadata": {},
   "source": [
    "So let us take a glimpse of our final doubly clustered and then name mapped dictionary;\n"
   ]
  },
  {
   "cell_type": "code",
   "execution_count": 23,
   "id": "cb39e5c5",
   "metadata": {},
   "outputs": [
    {
     "data": {
      "text/html": [
       "<div>\n",
       "<style scoped>\n",
       "    .dataframe tbody tr th:only-of-type {\n",
       "        vertical-align: middle;\n",
       "    }\n",
       "\n",
       "    .dataframe tbody tr th {\n",
       "        vertical-align: top;\n",
       "    }\n",
       "\n",
       "    .dataframe thead th {\n",
       "        text-align: right;\n",
       "    }\n",
       "</style>\n",
       "<table border=\"1\" class=\"dataframe\">\n",
       "  <thead>\n",
       "    <tr style=\"text-align: right;\">\n",
       "      <th></th>\n",
       "      <th>CLASS I. Philosophical Taxonomy</th>\n",
       "      <th>CLASS II. Diverse Manifestations</th>\n",
       "      <th>CLASS III. Life Dynamics</th>\n",
       "      <th>CLASS IV. Transformational Entities</th>\n",
       "      <th>CLASS V. Elemental Forces</th>\n",
       "      <th>CLASS VI. Societal Dynamics</th>\n",
       "    </tr>\n",
       "  </thead>\n",
       "  <tbody>\n",
       "    <tr>\n",
       "      <th>Existence and Essence</th>\n",
       "      <td>{'#1': {'value': -0.17363267987966502, 'origin...</td>\n",
       "      <td>{'#55': {'value': -0.0019654026627540003, 'ori...</td>\n",
       "      <td>{'#68': {'value': -0.08120384082198101, 'origi...</td>\n",
       "      <td>{'#61': {'value': 0.107546487902291, 'original...</td>\n",
       "      <td>{'#495': {'value': 0.39064519852399804, 'origi...</td>\n",
       "      <td>{'#127': {'value': -0.244818282872438, 'origin...</td>\n",
       "    </tr>\n",
       "    <tr>\n",
       "      <th>Relations and Dispositions</th>\n",
       "      <td>{'#9': {'value': -0.21769467294216102, 'origin...</td>\n",
       "      <td>{'#6': {'value': -0.036806120276451006, 'origi...</td>\n",
       "      <td>{'#16': {'value': -0.12431204169988601, 'origi...</td>\n",
       "      <td>{'#20': {'value': 0.061658519953489005, 'origi...</td>\n",
       "      <td>{'#59': {'value': 0.21014551386237101, 'origin...</td>\n",
       "      <td>{'#156': {'value': -0.35864959478378206, 'orig...</td>\n",
       "    </tr>\n",
       "    <tr>\n",
       "      <th>Connection and Manifestation</th>\n",
       "      <td>{'#45': {'value': -0.20804740455001502, 'origi...</td>\n",
       "      <td>{'#12': {'value': -0.027167882919311003, 'orig...</td>\n",
       "      <td>{'#7': {'value': -0.058929093703627006, 'origi...</td>\n",
       "      <td>{'#24': {'value': 0.027759716361761003, 'origi...</td>\n",
       "      <td>{'#32': {'value': 0.14063920557498902, 'origin...</td>\n",
       "      <td>{'#192': {'value': -0.29645520031452105, 'orig...</td>\n",
       "    </tr>\n",
       "    <tr>\n",
       "      <th>Differentiation and Manifested Properties</th>\n",
       "      <td>{'#15': {'value': -0.148595730983652, 'origina...</td>\n",
       "      <td>{'#17': {'value': 0.011088958680629, 'original...</td>\n",
       "      <td>{'#25': {'value': -0.10498995989561001, 'origi...</td>\n",
       "      <td>{'#34': {'value': 0.08008175998926101, 'origin...</td>\n",
       "      <td>{'#392b': {'value': 0.268631095536984, 'origin...</td>\n",
       "      <td>{'#35': {'value': -0.259499431587755, 'origina...</td>\n",
       "    </tr>\n",
       "    <tr>\n",
       "      <th>Comparison and Qualification</th>\n",
       "      <td>{'#31': {'value': -0.156211318969726, 'origina...</td>\n",
       "      <td>{'#22': {'value': -0.006355521678924001, 'orig...</td>\n",
       "      <td>{'#43': {'value': -0.06433563858270601, 'origi...</td>\n",
       "      <td>{'#48': {'value': 0.119894878566265, 'original...</td>\n",
       "      <td>{'#155': {'value': 0.171528318822383, 'origina...</td>\n",
       "      <td>{'#478': {'value': -0.445508804917335, 'origin...</td>\n",
       "    </tr>\n",
       "  </tbody>\n",
       "</table>\n",
       "</div>"
      ],
      "text/plain": [
       "                                                             CLASS I. Philosophical Taxonomy  \\\n",
       "Existence and Essence                      {'#1': {'value': -0.17363267987966502, 'origin...   \n",
       "Relations and Dispositions                 {'#9': {'value': -0.21769467294216102, 'origin...   \n",
       "Connection and Manifestation               {'#45': {'value': -0.20804740455001502, 'origi...   \n",
       "Differentiation and Manifested Properties  {'#15': {'value': -0.148595730983652, 'origina...   \n",
       "Comparison and Qualification               {'#31': {'value': -0.156211318969726, 'origina...   \n",
       "\n",
       "                                                            CLASS II. Diverse Manifestations  \\\n",
       "Existence and Essence                      {'#55': {'value': -0.0019654026627540003, 'ori...   \n",
       "Relations and Dispositions                 {'#6': {'value': -0.036806120276451006, 'origi...   \n",
       "Connection and Manifestation               {'#12': {'value': -0.027167882919311003, 'orig...   \n",
       "Differentiation and Manifested Properties  {'#17': {'value': 0.011088958680629, 'original...   \n",
       "Comparison and Qualification               {'#22': {'value': -0.006355521678924001, 'orig...   \n",
       "\n",
       "                                                                    CLASS III. Life Dynamics  \\\n",
       "Existence and Essence                      {'#68': {'value': -0.08120384082198101, 'origi...   \n",
       "Relations and Dispositions                 {'#16': {'value': -0.12431204169988601, 'origi...   \n",
       "Connection and Manifestation               {'#7': {'value': -0.058929093703627006, 'origi...   \n",
       "Differentiation and Manifested Properties  {'#25': {'value': -0.10498995989561001, 'origi...   \n",
       "Comparison and Qualification               {'#43': {'value': -0.06433563858270601, 'origi...   \n",
       "\n",
       "                                                         CLASS IV. Transformational Entities  \\\n",
       "Existence and Essence                      {'#61': {'value': 0.107546487902291, 'original...   \n",
       "Relations and Dispositions                 {'#20': {'value': 0.061658519953489005, 'origi...   \n",
       "Connection and Manifestation               {'#24': {'value': 0.027759716361761003, 'origi...   \n",
       "Differentiation and Manifested Properties  {'#34': {'value': 0.08008175998926101, 'origin...   \n",
       "Comparison and Qualification               {'#48': {'value': 0.119894878566265, 'original...   \n",
       "\n",
       "                                                                   CLASS V. Elemental Forces  \\\n",
       "Existence and Essence                      {'#495': {'value': 0.39064519852399804, 'origi...   \n",
       "Relations and Dispositions                 {'#59': {'value': 0.21014551386237101, 'origin...   \n",
       "Connection and Manifestation               {'#32': {'value': 0.14063920557498902, 'origin...   \n",
       "Differentiation and Manifested Properties  {'#392b': {'value': 0.268631095536984, 'origin...   \n",
       "Comparison and Qualification               {'#155': {'value': 0.171528318822383, 'origina...   \n",
       "\n",
       "                                                                 CLASS VI. Societal Dynamics  \n",
       "Existence and Essence                      {'#127': {'value': -0.244818282872438, 'origin...  \n",
       "Relations and Dispositions                 {'#156': {'value': -0.35864959478378206, 'orig...  \n",
       "Connection and Manifestation               {'#192': {'value': -0.29645520031452105, 'orig...  \n",
       "Differentiation and Manifested Properties  {'#35': {'value': -0.259499431587755, 'origina...  \n",
       "Comparison and Qualification               {'#478': {'value': -0.445508804917335, 'origin...  "
      ]
     },
     "execution_count": 23,
     "metadata": {},
     "output_type": "execute_result"
    }
   ],
   "source": [
    "import pandas as pd\n",
    "pd.set_option('display.max_columns', None)\n",
    "df = pd.read_json('modern_dictionary_with_names.json ')\n",
    "df.head(5)"
   ]
  },
  {
   "cell_type": "markdown",
   "id": "8a7e024b",
   "metadata": {},
   "source": [
    "By browsing the dictionary, in the word list, we can see the original words"
   ]
  },
  {
   "cell_type": "code",
   "execution_count": null,
   "id": "90e1fe75",
   "metadata": {},
   "outputs": [],
   "source": []
  }
 ],
 "metadata": {
  "kernelspec": {
   "display_name": "Python 3 (ipykernel)",
   "language": "python",
   "name": "python3"
  },
  "language_info": {
   "codemirror_mode": {
    "name": "ipython",
    "version": 3
   },
   "file_extension": ".py",
   "mimetype": "text/x-python",
   "name": "python",
   "nbconvert_exporter": "python",
   "pygments_lexer": "ipython3",
   "version": "3.11.5"
  }
 },
 "nbformat": 4,
 "nbformat_minor": 5
}
