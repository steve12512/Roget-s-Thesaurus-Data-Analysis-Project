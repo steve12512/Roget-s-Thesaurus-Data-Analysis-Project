{
 "cells": [
  {
   "cell_type": "markdown",
   "id": "cac68b3b",
   "metadata": {},
   "source": [
    "To have our code be more readable, everyhing is done in our read_save.py file. The file will read the thesaurus, store it in dictionaries and json files. \n",
    "One dictionary contains the classes/divisions/sections of the book and maps them to 2 lists; one with the words contained within each section, and one that contains the #numbers of the sections.\n",
    "The other dictionary maps the #numbers to their list of words, which is basically a list of synonyms.\n"
   ]
  },
  {
   "cell_type": "markdown",
   "id": "513af197",
   "metadata": {},
   "source": [
    "We then continue by loading a word2vec object and having it trained by loading a popular twitter25 model.\n",
    "After that, we store the embeddings we find in an embeddings dictionary, that maps #numbers to their list of word embeddings.\n",
    "However, since similar words tend to have embeddings whose numbersare close to one another, for each #number, we calculate the average of the corresponding list of embeddings.\n",
    "This way, our data will to process for our clustering model."
   ]
  },
  {
   "cell_type": "markdown",
   "id": "4aaea7fb",
   "metadata": {},
   "source": [
    "Then we proceed with one unsupervised machine learning algorithm, in particular k-means."
   ]
  },
  {
   "cell_type": "code",
   "execution_count": null,
   "id": "91a4036a",
   "metadata": {},
   "outputs": [],
   "source": [
    "%run read_save.py"
   ]
  },
  {
   "cell_type": "code",
   "execution_count": null,
   "id": "1af8dea7",
   "metadata": {},
   "outputs": [],
   "source": []
  }
 ],
 "metadata": {
  "kernelspec": {
   "display_name": "Python 3 (ipykernel)",
   "language": "python",
   "name": "python3"
  },
  "language_info": {
   "codemirror_mode": {
    "name": "ipython",
    "version": 3
   },
   "file_extension": ".py",
   "mimetype": "text/x-python",
   "name": "python",
   "nbconvert_exporter": "python",
   "pygments_lexer": "ipython3",
   "version": "3.11.5"
  }
 },
 "nbformat": 4,
 "nbformat_minor": 5
}
