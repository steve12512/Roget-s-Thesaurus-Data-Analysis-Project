{
 "cells": [
  {
   "cell_type": "markdown",
   "id": "1f6351e0",
   "metadata": {},
   "source": [
    "To have our code be more readable, everyhing is done in our read_save.py file. The file will read the thesaurus, store it in dictionaries and json files. \n",
    "One dictionary contains the classes/divisions/sections of the book and maps them to 2 lists; one with the words contained within each section, and one that contains the #numbers of the sections.\n",
    "The other dictionary maps the #numbers to their list of words, which is basically a list of synonyms.\n"
   ]
  },
  {
   "cell_type": "markdown",
   "id": "a7060988",
   "metadata": {},
   "source": [
    "We then continue by loading a word2vec object and having it trained by loading a popular twitter25 model.\n",
    "After that, we store the embeddings we find in an embeddings dictionary, that maps #numbers to their list of word embeddings.\n",
    "\n",
    "However, since similar words tend to have embeddings whose numbersare close to one another, for each #number, we calculate the average of the corresponding list of embeddings and store it in a new dictioary, called average_embeddings.\n",
    "\n",
    "This way, our data will to process for our clustering model."
   ]
  },
  {
   "cell_type": "markdown",
   "id": "a508a87b",
   "metadata": {},
   "source": [
    "Then we proceed with one unsupervised machine learning algorithm, in particular k-means."
   ]
  },
  {
   "cell_type": "code",
   "execution_count": null,
   "id": "90aeb403",
   "metadata": {},
   "outputs": [],
   "source": [
    "%run read_save.py"
   ]
  },
  {
   "cell_type": "markdown",
   "id": "6d910b21",
   "metadata": {},
   "source": [
    "After performing a kmeans clustering for our classes, our new classes look like this; \n",
    "\n",
    "    \"CLASS I. Philosophical Taxonomy\",\n",
    "    \"CLASS II. Diverse Manifestations\",\n",
    "    \"CLASS III. Life Dynamics\",\n",
    "    \"CLASS IV. Transformational Entities\",\n",
    "    \"CLASS V. Elemental Forces\",\n",
    "    \"CLASS VI. Societal Dynamics\""
   ]
  },
  {
   "cell_type": "markdown",
   "id": "cbf872f2",
   "metadata": {},
   "source": [
    "Of course, the new cluster classes only have numbers for names as of now. \n",
    "\n",
    "The mapping of the sum of the words they contain to their cluster name is done at the end of our assessment. \n",
    "We then proceed, for each new cluster class, to create new clusters(sections) within that class.\n",
    "\n",
    "Our new cluster classes, along with those cluster sections, after mapping the words of each section to their meaning, will be along these lines;"
   ]
  },
  {
   "cell_type": "markdown",
   "id": "6b307659",
   "metadata": {},
   "source": [
    "\n",
    "**\"CLASS I. Philosophical Taxonomy\" ;**\n",
    "\n",
    "Section 1: \"Existence and Essence\"\n",
    "\n",
    "Section 2: \"Relations and Dispositions\"\n",
    "\n",
    "Section 3: \"Connection and Manifestation\"\n",
    "\n",
    "Section 4: \"Differentiation and Manifested Properties\n",
    "\n",
    "Section 5: \"Comparison and Qualification\"\n",
    "\n",
    "\n",
    "\n",
    "**\"CLASS II. Diverse Manifestations\" ;**\n",
    "\n",
    "Section 1: \"Exclusion and Novelty\"\n",
    "\n",
    "Section 2: \"Extrinsical Identity and Forms\"\n",
    "\n",
    "Section 3: \"Decomposition and Diversity\"\n",
    "\n",
    "Section 4: \"Similarity and Compositions\"\n",
    "\n",
    "Section 5: \"Junctions and Manifestations\"\n",
    "\n",
    "\n",
    "\n",
    "**\"CLASS III. Life Dynamics\" ;**\n",
    "\n",
    "Section 1: \"Middle and Motives\"\n",
    "\n",
    "Section 2: \"Uniformity and Ends\"\n",
    "\n",
    "Section 3:\"State and Events\"\n",
    "\n",
    "Section 4: \"Absolute Properties and Entities\"\n",
    "\n",
    "Section 5: \"Junctions and Intentions\"\n",
    "\n",
    "\n",
    "\n",
    "**\"CLASS IV. Transformational Entities\" ;**\n",
    "\n",
    "Section 1: \"Transformation and Contractions\"\n",
    "\n",
    "Section 2: \"Imitation and Variations\"\n",
    "\n",
    "Section 3: \"Disagreements and Destruction\"\n",
    "\n",
    "Section 4: \"Inferiority and Sound\"\n",
    "\n",
    "Section 5: \"Combination and Possession\"\n",
    "\n",
    "\n",
    "\n",
    "**\"CLASS V. Elemental Forces\" ;**\n",
    "\n",
    "Section 1: \"Error and Misfortune\"\n",
    "\n",
    "Section 2: \"Absence and Odors\"\n",
    "\n",
    "Section 3: \"Smallness and Memory\"\n",
    "\n",
    "Section 4: \"Bitterness and Indications\"\n",
    "\n",
    "Section 5: \"Assignments and Demonstration\"\n",
    "\n",
    "\n",
    "\n",
    "**\"CLASS VI. Societal Dynamics\" ;**\n",
    "\n",
    "Section 1: \"Youth and Expressive Forces\"\n",
    "\n",
    "Section 2: \"Support, Direction, and Social Influences\"\n",
    "\n",
    "Section 3: \"Size, Clothing, and Relationship Dynamics\"\n",
    "\n",
    "Section 4: \"Change, Evening, and Governance Forces\"\n",
    "\n",
    "Section 5: \"Demonstration and Financial Forces\"\n"
   ]
  },
  {
   "cell_type": "markdown",
   "id": "3cc45d0a",
   "metadata": {},
   "source": [
    "\n",
    "We see that a modern unsupervised machine learning algorithm categorizes words in a very different way, compared to Roget's age.\n"
   ]
  },
  {
   "cell_type": "code",
   "execution_count": null,
   "id": "52924693",
   "metadata": {},
   "outputs": [],
   "source": []
  }
 ],
 "metadata": {
  "kernelspec": {
   "display_name": "Python 3 (ipykernel)",
   "language": "python",
   "name": "python3"
  },
  "language_info": {
   "codemirror_mode": {
    "name": "ipython",
    "version": 3
   },
   "file_extension": ".py",
   "mimetype": "text/x-python",
   "name": "python",
   "nbconvert_exporter": "python",
   "pygments_lexer": "ipython3",
   "version": "3.11.5"
  }
 },
 "nbformat": 4,
 "nbformat_minor": 5
}
